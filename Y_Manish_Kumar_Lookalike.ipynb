{
  "cells": [
    {
      "cell_type": "markdown",
      "metadata": {
        "id": "ndmRNpicnhm6"
      },
      "source": [
        "# Task 2"
      ]
    },
    {
      "cell_type": "markdown",
      "metadata": {
        "id": "UG_2qktTllMP"
      },
      "source": [
        "## Import necessary libraries"
      ]
    },
    {
      "cell_type": "code",
      "execution_count": 12,
      "metadata": {
        "id": "ad7NaRn8ltLX"
      },
      "outputs": [],
      "source": [
        "import pandas as pd\n",
        "import numpy as np\n",
        "from sklearn.metrics.pairwise import cosine_similarity\n",
        "from sklearn.preprocessing import StandardScaler"
      ]
    },
    {
      "cell_type": "markdown",
      "metadata": {
        "id": "xzdGznW9l6g4"
      },
      "source": [
        "## Load the datasets"
      ]
    },
    {
      "cell_type": "code",
      "execution_count": 13,
      "metadata": {
        "id": "NWiv3jfdl9nE"
      },
      "outputs": [],
      "source": [
        "customers = pd.read_csv(\"/content/Customers.csv\")\n",
        "transactions = pd.read_csv(\"/content/Transactions.csv\")"
      ]
    },
    {
      "cell_type": "markdown",
      "metadata": {
        "id": "9e6HpC_ImJSg"
      },
      "source": [
        "## Merge customer and transaction data\n"
      ]
    },
    {
      "cell_type": "code",
      "execution_count": 14,
      "metadata": {
        "id": "WwXo-lgKmlIh"
      },
      "outputs": [],
      "source": [
        "customer_transactions = pd.merge(customers, transactions, on='CustomerID')"
      ]
    },
    {
      "cell_type": "markdown",
      "metadata": {
        "id": "ISBtakfJmoC-"
      },
      "source": [
        "## Check for missing values\n"
      ]
    },
    {
      "cell_type": "code",
      "execution_count": 15,
      "metadata": {
        "colab": {
          "base_uri": "https://localhost:8080/"
        },
        "id": "9Wac_Ku2mrFz",
        "outputId": "6d1bc819-a5fa-4980-fe00-2e753031f219"
      },
      "outputs": [
        {
          "name": "stdout",
          "output_type": "stream",
          "text": [
            "\n",
            "Missing Values in Customers:\n",
            "CustomerID      0\n",
            "CustomerName    0\n",
            "Region          0\n",
            "SignupDate      0\n",
            "dtype: int64\n",
            "\n",
            "Missing Values in Transactions:\n",
            "TransactionID      0\n",
            "CustomerID         0\n",
            "ProductID          0\n",
            "TransactionDate    0\n",
            "Quantity           0\n",
            "TotalValue         0\n",
            "Price              0\n",
            "dtype: int64\n"
          ]
        }
      ],
      "source": [
        "print(\"\\nMissing Values in Customers:\")\n",
        "print(customers.isnull().sum())\n",
        "print(\"\\nMissing Values in Transactions:\")\n",
        "print(transactions.isnull().sum())"
      ]
    },
    {
      "cell_type": "markdown",
      "metadata": {
        "id": "scUtL1asmxnD"
      },
      "source": [
        "## Convert date columns to datetime\n"
      ]
    },
    {
      "cell_type": "code",
      "execution_count": 16,
      "metadata": {
        "id": "nErQCHI7m03A"
      },
      "outputs": [],
      "source": [
        "customers['SignupDate'] = pd.to_datetime(customers['SignupDate'])\n",
        "transactions['TransactionDate'] = pd.to_datetime(transactions['TransactionDate'])"
      ]
    },
    {
      "cell_type": "markdown",
      "metadata": {
        "id": "mQ4XTSGfm57z"
      },
      "source": [
        "## Merge customer and transaction data\n"
      ]
    },
    {
      "cell_type": "code",
      "execution_count": 17,
      "metadata": {
        "id": "j6VW2hDXm_qh"
      },
      "outputs": [],
      "source": [
        "customer_transactions = pd.merge(customers, transactions, on='CustomerID')"
      ]
    },
    {
      "cell_type": "markdown",
      "metadata": {
        "id": "kNssiZGknBq6"
      },
      "source": [
        "## Create customer features\n"
      ]
    },
    {
      "cell_type": "code",
      "execution_count": 18,
      "metadata": {
        "id": "es9bnBkenELr"
      },
      "outputs": [],
      "source": [
        "customer_features = customer_transactions.groupby('CustomerID').agg({\n",
        "    'TotalValue': 'sum',  # Total spending\n",
        "    'Quantity': 'sum',    # Total quantity purchased\n",
        "    'TransactionDate': 'nunique'  # Number of transactions\n",
        "}).reset_index()"
      ]
    },
    {
      "cell_type": "markdown",
      "metadata": {
        "id": "EIvWGnldnHS_"
      },
      "source": [
        "## Normalize features\n"
      ]
    },
    {
      "cell_type": "code",
      "execution_count": 19,
      "metadata": {
        "id": "JvtlQhgLnNuD"
      },
      "outputs": [],
      "source": [
        "scaler = StandardScaler()\n",
        "customer_features_scaled = scaler.fit_transform(customer_features[['TotalValue', 'Quantity', 'TransactionDate']])"
      ]
    },
    {
      "cell_type": "markdown",
      "metadata": {
        "id": "SfT2zefvnRzJ"
      },
      "source": [
        "## Compute similarity matrix\n"
      ]
    },
    {
      "cell_type": "code",
      "execution_count": 20,
      "metadata": {
        "id": "ZcNXHmefnOBQ"
      },
      "outputs": [],
      "source": [
        "similarity_matrix = cosine_similarity(customer_features_scaled)"
      ]
    },
    {
      "cell_type": "markdown",
      "metadata": {
        "id": "_ln1nBy0nYha"
      },
      "source": [
        "## Function to get top 3 lookalikes for a given customer"
      ]
    },
    {
      "cell_type": "code",
      "execution_count": 21,
      "metadata": {
        "id": "BqVs2lhCj2ar"
      },
      "outputs": [],
      "source": [
        "def get_lookalikes(customer_id, similarity_matrix, top_n=3):\n",
        "    customer_index = customer_features[customer_features['CustomerID'] == customer_id].index[0]\n",
        "    similarities = similarity_matrix[customer_index]\n",
        "    top_indices = np.argsort(similarities)[-top_n-1:-1][::-1]  # Exclude the customer itself\n",
        "    lookalikes = customer_features.iloc[top_indices]['CustomerID'].tolist()\n",
        "    scores = similarities[top_indices]\n",
        "    return list(zip(lookalikes, scores))"
      ]
    },
    {
      "cell_type": "markdown",
      "metadata": {
        "id": "naoDXvSxtj9B"
      },
      "source": [
        "## Generate lookalikes for the first 20 customers\n"
      ]
    },
    {
      "cell_type": "code",
      "execution_count": 22,
      "metadata": {
        "id": "-oGnXUd-tlyy"
      },
      "outputs": [],
      "source": [
        "lookalike_results = {}\n",
        "for customer_id in customer_features['CustomerID'].head(20):\n",
        "    lookalike_results[customer_id] = get_lookalikes(customer_id, similarity_matrix)"
      ]
    },
    {
      "cell_type": "markdown",
      "metadata": {
        "id": "vsIH7yd0trFd"
      },
      "source": [
        "## Save results to a CSV file\n"
      ]
    },
    {
      "cell_type": "code",
      "execution_count": 23,
      "metadata": {
        "colab": {
          "base_uri": "https://localhost:8080/"
        },
        "id": "fZw-O0eCtv8F",
        "outputId": "6e8fbf4c-c7b8-4124-f6cf-0f6dd26a372b"
      },
      "outputs": [
        {
          "name": "stdout",
          "output_type": "stream",
          "text": [
            "Lookalike model results saved to Lookalike.csv\n"
          ]
        }
      ],
      "source": [
        "lookalike_df = pd.DataFrame(lookalike_results).T.reset_index()\n",
        "lookalike_df.columns = ['CustomerID', 'Lookalike1', 'Lookalike2', 'Lookalike3']\n",
        "lookalike_df.to_csv(\"Lookalike.csv\", index=False)\n",
        "\n",
        "print(\"Lookalike model results saved to Lookalike.csv\")"
      ]
    }
  ],
  "metadata": {
    "colab": {
      "provenance": []
    },
    "kernelspec": {
      "display_name": "Python 3",
      "name": "python3"
    },
    "language_info": {
      "name": "python"
    }
  },
  "nbformat": 4,
  "nbformat_minor": 0
}
