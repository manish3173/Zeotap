{
  "nbformat": 4,
  "nbformat_minor": 0,
  "metadata": {
    "colab": {
      "provenance": []
    },
    "kernelspec": {
      "name": "python3",
      "display_name": "Python 3"
    },
    "language_info": {
      "name": "python"
    }
  },
  "cells": [
    {
      "cell_type": "markdown",
      "source": [
        "# Task 2"
      ],
      "metadata": {
        "id": "ndmRNpicnhm6"
      }
    },
    {
      "cell_type": "markdown",
      "source": [
        "##Import necessary libraries"
      ],
      "metadata": {
        "id": "UG_2qktTllMP"
      }
    },
    {
      "cell_type": "code",
      "source": [
        "import pandas as pd\n",
        "import numpy as np\n",
        "from sklearn.metrics.pairwise import cosine_similarity\n",
        "from sklearn.preprocessing import StandardScaler"
      ],
      "metadata": {
        "id": "ad7NaRn8ltLX"
      },
      "execution_count": 12,
      "outputs": []
    },
    {
      "cell_type": "markdown",
      "source": [
        "## Load the datasets"
      ],
      "metadata": {
        "id": "xzdGznW9l6g4"
      }
    },
    {
      "cell_type": "code",
      "source": [
        "customers = pd.read_csv(\"/content/Customers.csv\")\n",
        "transactions = pd.read_csv(\"/content/Transactions.csv\")"
      ],
      "metadata": {
        "id": "NWiv3jfdl9nE"
      },
      "execution_count": 13,
      "outputs": []
    },
    {
      "cell_type": "markdown",
      "source": [
        "## Merge customer and transaction data\n"
      ],
      "metadata": {
        "id": "9e6HpC_ImJSg"
      }
    },
    {
      "cell_type": "code",
      "source": [
        "customer_transactions = pd.merge(customers, transactions, on='CustomerID')"
      ],
      "metadata": {
        "id": "WwXo-lgKmlIh"
      },
      "execution_count": 14,
      "outputs": []
    },
    {
      "cell_type": "markdown",
      "source": [
        "## Check for missing values\n"
      ],
      "metadata": {
        "id": "ISBtakfJmoC-"
      }
    },
    {
      "cell_type": "code",
      "source": [
        "print(\"\\nMissing Values in Customers:\")\n",
        "print(customers.isnull().sum())\n",
        "print(\"\\nMissing Values in Transactions:\")\n",
        "print(transactions.isnull().sum())"
      ],
      "metadata": {
        "colab": {
          "base_uri": "https://localhost:8080/"
        },
        "id": "9Wac_Ku2mrFz",
        "outputId": "6d1bc819-a5fa-4980-fe00-2e753031f219"
      },
      "execution_count": 15,
      "outputs": [
        {
          "output_type": "stream",
          "name": "stdout",
          "text": [
            "\n",
            "Missing Values in Customers:\n",
            "CustomerID      0\n",
            "CustomerName    0\n",
            "Region          0\n",
            "SignupDate      0\n",
            "dtype: int64\n",
            "\n",
            "Missing Values in Transactions:\n",
            "TransactionID      0\n",
            "CustomerID         0\n",
            "ProductID          0\n",
            "TransactionDate    0\n",
            "Quantity           0\n",
            "TotalValue         0\n",
            "Price              0\n",
            "dtype: int64\n"
          ]
        }
      ]
    },
    {
      "cell_type": "markdown",
      "source": [
        "## Convert date columns to datetime\n"
      ],
      "metadata": {
        "id": "scUtL1asmxnD"
      }
    },
    {
      "cell_type": "code",
      "source": [
        "customers['SignupDate'] = pd.to_datetime(customers['SignupDate'])\n",
        "transactions['TransactionDate'] = pd.to_datetime(transactions['TransactionDate'])"
      ],
      "metadata": {
        "id": "nErQCHI7m03A"
      },
      "execution_count": 16,
      "outputs": []
    },
    {
      "cell_type": "markdown",
      "source": [
        "## Merge customer and transaction data\n"
      ],
      "metadata": {
        "id": "mQ4XTSGfm57z"
      }
    },
    {
      "cell_type": "code",
      "source": [
        "customer_transactions = pd.merge(customers, transactions, on='CustomerID')"
      ],
      "metadata": {
        "id": "j6VW2hDXm_qh"
      },
      "execution_count": 17,
      "outputs": []
    },
    {
      "cell_type": "markdown",
      "source": [
        "## Create customer features\n"
      ],
      "metadata": {
        "id": "kNssiZGknBq6"
      }
    },
    {
      "cell_type": "code",
      "source": [
        "customer_features = customer_transactions.groupby('CustomerID').agg({\n",
        "    'TotalValue': 'sum',  # Total spending\n",
        "    'Quantity': 'sum',    # Total quantity purchased\n",
        "    'TransactionDate': 'nunique'  # Number of transactions\n",
        "}).reset_index()"
      ],
      "metadata": {
        "id": "es9bnBkenELr"
      },
      "execution_count": 18,
      "outputs": []
    },
    {
      "cell_type": "markdown",
      "source": [
        "## Normalize features\n"
      ],
      "metadata": {
        "id": "EIvWGnldnHS_"
      }
    },
    {
      "cell_type": "code",
      "source": [
        "scaler = StandardScaler()\n",
        "customer_features_scaled = scaler.fit_transform(customer_features[['TotalValue', 'Quantity', 'TransactionDate']])"
      ],
      "metadata": {
        "id": "JvtlQhgLnNuD"
      },
      "execution_count": 19,
      "outputs": []
    },
    {
      "cell_type": "markdown",
      "source": [
        "## Compute similarity matrix\n"
      ],
      "metadata": {
        "id": "SfT2zefvnRzJ"
      }
    },
    {
      "cell_type": "code",
      "source": [
        "similarity_matrix = cosine_similarity(customer_features_scaled)"
      ],
      "metadata": {
        "id": "ZcNXHmefnOBQ"
      },
      "execution_count": 20,
      "outputs": []
    },
    {
      "cell_type": "markdown",
      "source": [
        "## Function to get top 3 lookalikes for a given customer"
      ],
      "metadata": {
        "id": "_ln1nBy0nYha"
      }
    },
    {
      "cell_type": "code",
      "execution_count": 21,
      "metadata": {
        "id": "BqVs2lhCj2ar"
      },
      "outputs": [],
      "source": [
        "def get_lookalikes(customer_id, similarity_matrix, top_n=3):\n",
        "    customer_index = customer_features[customer_features['CustomerID'] == customer_id].index[0]\n",
        "    similarities = similarity_matrix[customer_index]\n",
        "    top_indices = np.argsort(similarities)[-top_n-1:-1][::-1]  # Exclude the customer itself\n",
        "    lookalikes = customer_features.iloc[top_indices]['CustomerID'].tolist()\n",
        "    scores = similarities[top_indices]\n",
        "    return list(zip(lookalikes, scores))"
      ]
    },
    {
      "cell_type": "markdown",
      "source": [
        "## Generate lookalikes for the first 20 customers\n"
      ],
      "metadata": {
        "id": "naoDXvSxtj9B"
      }
    },
    {
      "cell_type": "code",
      "source": [
        "lookalike_results = {}\n",
        "for customer_id in customer_features['CustomerID'].head(20):\n",
        "    lookalike_results[customer_id] = get_lookalikes(customer_id, similarity_matrix)"
      ],
      "metadata": {
        "id": "-oGnXUd-tlyy"
      },
      "execution_count": 22,
      "outputs": []
    },
    {
      "cell_type": "markdown",
      "source": [
        "## Save results to a CSV file\n"
      ],
      "metadata": {
        "id": "vsIH7yd0trFd"
      }
    },
    {
      "cell_type": "code",
      "source": [
        "lookalike_df = pd.DataFrame(lookalike_results).T.reset_index()\n",
        "lookalike_df.columns = ['CustomerID', 'Lookalike1', 'Lookalike2', 'Lookalike3']\n",
        "lookalike_df.to_csv(\"Lookalike.csv\", index=False)\n",
        "\n",
        "print(\"Lookalike model results saved to Lookalike.csv\")"
      ],
      "metadata": {
        "colab": {
          "base_uri": "https://localhost:8080/"
        },
        "id": "fZw-O0eCtv8F",
        "outputId": "6e8fbf4c-c7b8-4124-f6cf-0f6dd26a372b"
      },
      "execution_count": 23,
      "outputs": [
        {
          "output_type": "stream",
          "name": "stdout",
          "text": [
            "Lookalike model results saved to Lookalike.csv\n"
          ]
        }
      ]
    }
  ]
}